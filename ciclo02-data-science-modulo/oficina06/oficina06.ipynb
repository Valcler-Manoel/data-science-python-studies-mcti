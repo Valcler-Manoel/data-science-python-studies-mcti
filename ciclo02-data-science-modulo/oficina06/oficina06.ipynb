{
 "cells": [
  {
   "cell_type": "code",
   "execution_count": 5,
   "id": "19446cb3-4e97-45f0-aeb4-0781bdd8e5ef",
   "metadata": {},
   "outputs": [],
   "source": [
    "import numpy as np"
   ]
  },
  {
   "cell_type": "code",
   "execution_count": 6,
   "id": "50e8f6a6-3263-4ede-8dd7-944ef07cff84",
   "metadata": {},
   "outputs": [
    {
     "data": {
      "text/plain": [
       "array([[1., 1., 1., 1., 1.],\n",
       "       [1., 1., 1., 1., 1.],\n",
       "       [1., 1., 1., 1., 1.]])"
      ]
     },
     "execution_count": 6,
     "metadata": {},
     "output_type": "execute_result"
    }
   ],
   "source": [
    "np.ones((3,5), dtype=float)"
   ]
  },
  {
   "cell_type": "code",
   "execution_count": 7,
   "id": "0751bd97-1679-4e05-9eb5-d0993b44d95d",
   "metadata": {},
   "outputs": [
    {
     "data": {
      "text/plain": [
       "array([[3.14, 3.14, 3.14, 3.14, 3.14],\n",
       "       [3.14, 3.14, 3.14, 3.14, 3.14],\n",
       "       [3.14, 3.14, 3.14, 3.14, 3.14]])"
      ]
     },
     "execution_count": 7,
     "metadata": {},
     "output_type": "execute_result"
    }
   ],
   "source": [
    "np.full((3,5), 3.14 )"
   ]
  },
  {
   "cell_type": "code",
   "execution_count": 9,
   "id": "f4b54167-bc24-4055-99cc-c7a042f7322a",
   "metadata": {},
   "outputs": [
    {
     "data": {
      "text/plain": [
       "array([ 0,  2,  4,  6,  8, 10, 12, 14, 16, 18])"
      ]
     },
     "execution_count": 9,
     "metadata": {},
     "output_type": "execute_result"
    }
   ],
   "source": [
    "np.arange(0, 20, 2)"
   ]
  },
  {
   "cell_type": "code",
   "execution_count": 10,
   "id": "7e03c45c-50cb-49c6-9c6a-a97e48e6189e",
   "metadata": {},
   "outputs": [
    {
     "data": {
      "text/plain": [
       "array([[0.74464173, 0.76049285, 0.04386529],\n",
       "       [0.52809769, 0.45429446, 0.72899319],\n",
       "       [0.57435941, 0.4462096 , 0.87731442]])"
      ]
     },
     "execution_count": 10,
     "metadata": {},
     "output_type": "execute_result"
    }
   ],
   "source": [
    "np.random.random((3,3))"
   ]
  },
  {
   "cell_type": "code",
   "execution_count": 14,
   "id": "8ce710e4-9bca-45ee-80f4-b65537be5caf",
   "metadata": {},
   "outputs": [
    {
     "data": {
      "text/plain": [
       "array([[3, 5, 4],\n",
       "       [3, 4, 2],\n",
       "       [8, 8, 0]], dtype=int32)"
      ]
     },
     "execution_count": 14,
     "metadata": {},
     "output_type": "execute_result"
    }
   ],
   "source": [
    "np.random.randint(0,10, (3,3))"
   ]
  },
  {
   "cell_type": "code",
   "execution_count": 26,
   "id": "ec3311a0-2d3a-4a09-b9dc-ac09e59e7957",
   "metadata": {},
   "outputs": [
    {
     "data": {
      "text/plain": [
       "array([[14,  4,  4, 16,  4,  0, 18,  1, 19, 11],\n",
       "       [11,  7, 18,  5,  6, 15, 13, 17,  4, 13],\n",
       "       [18,  5, 14, 14,  6,  4,  9, 12,  2,  2],\n",
       "       [13,  3,  7, 13, 16,  2, 19,  5,  5,  9],\n",
       "       [18, 16, 10, 13, 12, 16, 12, 11,  8,  1],\n",
       "       [13, 13, 19, 10, 17, 15,  6,  0, 16, 12],\n",
       "       [ 4, 17,  8, 10, 17,  4,  0, 16, 16,  3],\n",
       "       [ 4,  2,  7, 18, 18, 12, 17,  5,  2, 15],\n",
       "       [ 4, 11, 16, 19, 11, 10, 14,  3,  1, 16],\n",
       "       [16, 18, 14, 13,  3,  8, 13,  7,  2, 14]], dtype=int32)"
      ]
     },
     "execution_count": 26,
     "metadata": {},
     "output_type": "execute_result"
    }
   ],
   "source": [
    "np.random.randint(0, 20, (10,10), dtype='int32')"
   ]
  },
  {
   "cell_type": "code",
   "execution_count": 27,
   "id": "1626d771-bf2d-4c5b-9eed-34e03dca663b",
   "metadata": {},
   "outputs": [],
   "source": [
    "import pandas as pd\n",
    "import numpy as np\n",
    "\n",
    "dados = {\n",
    "\n",
    "    'Nome': ['Ana', 'Bruno', 'Carlos', 'Daniela', 'Eduardo'],\n",
    "\n",
    "    'Idade': [28, 34, 29, None, 42],\n",
    "\n",
    "    'Cidade': ['São Paulo', 'Rio de Janeiro', None, 'Curitiba', 'Belo Horizonte'],\n",
    "\n",
    "    'Vendas': [150, 200, 300, 400, None]\n",
    "\n",
    "}"
   ]
  },
  {
   "cell_type": "markdown",
   "id": "ce2df382-0360-408c-82f4-a37f7c454462",
   "metadata": {},
   "source": [
    "##  1 Crie um DataFrame com base nos dados fornecidos;"
   ]
  },
  {
   "cell_type": "code",
   "execution_count": 28,
   "id": "3bb8ebf1-2f6a-4d2d-9fe3-66ea46c5f0ef",
   "metadata": {},
   "outputs": [],
   "source": [
    "df = pd.DataFrame(dados)"
   ]
  },
  {
   "cell_type": "markdown",
   "id": "faf82a53-03be-4395-bb61-bce0fdb915ea",
   "metadata": {},
   "source": [
    "## 2 Filtre os clientes que têm mais de 30 anos;"
   ]
  },
  {
   "cell_type": "code",
   "execution_count": 29,
   "id": "7cd26eca-5a75-428c-bd88-625a44c055f8",
   "metadata": {},
   "outputs": [
    {
     "name": "stdout",
     "output_type": "stream",
     "text": [
      "      Nome  Idade          Cidade  Vendas\n",
      "1    Bruno   34.0  Rio de Janeiro   200.0\n",
      "4  Eduardo   42.0  Belo Horizonte     NaN\n"
     ]
    }
   ],
   "source": [
    "clientes_30_anos = df[df['Idade'] > 30]\n",
    "print(clientes_30_anos)"
   ]
  },
  {
   "cell_type": "markdown",
   "id": "c52eb037-9f7b-4b5e-b97d-f47b206cfd2d",
   "metadata": {},
   "source": [
    "## 3. Calcular a média de idade dos clientes (ignorando valores nulos)"
   ]
  },
  {
   "cell_type": "code",
   "execution_count": 33,
   "id": "1cc812dc-544c-4526-b109-9738230ca5f5",
   "metadata": {},
   "outputs": [
    {
     "name": "stdout",
     "output_type": "stream",
     "text": [
      "A média de idade de todos os clientes é de 33.25 anos\n"
     ]
    }
   ],
   "source": [
    "media_idade_clientes = df['Idade'].mean()\n",
    "print(\"A média de idade de todos os clientes é de\", media_idade_clientes, \"anos\")"
   ]
  },
  {
   "cell_type": "markdown",
   "id": "63211f09-8cda-45bd-b69d-2a7988c96ac2",
   "metadata": {},
   "source": [
    "## 4. Substituir valores faltantes na coluna Cidade por 'Desconhecido'"
   ]
  },
  {
   "cell_type": "code",
   "execution_count": 34,
   "id": "a7d0e3c7-69be-485f-b263-69ed820f1b34",
   "metadata": {},
   "outputs": [],
   "source": [
    "df['Cidade'] = df['Cidade'].fillna('Desconhecido')"
   ]
  },
  {
   "cell_type": "markdown",
   "id": "ef63efaf-c100-4bc2-a2d3-8b8b254c106a",
   "metadata": {},
   "source": [
    "## 5. Calcular a soma total das vendas (ignorando valores nulos)"
   ]
  },
  {
   "cell_type": "code",
   "execution_count": null,
   "id": "2e71981f-b2ab-4ed2-8049-53b67540a891",
   "metadata": {},
   "outputs": [],
   "source": [
    "soma_total_vendas = df['Vendas'].sum()\n",
    "print(\"A soma total das vendas é de R$\", soma_total_vendas)"
   ]
  }
 ],
 "metadata": {
  "kernelspec": {
   "display_name": "Python 3 (ipykernel)",
   "language": "python",
   "name": "python3"
  },
  "language_info": {
   "codemirror_mode": {
    "name": "ipython",
    "version": 3
   },
   "file_extension": ".py",
   "mimetype": "text/x-python",
   "name": "python",
   "nbconvert_exporter": "python",
   "pygments_lexer": "ipython3",
   "version": "3.12.10"
  }
 },
 "nbformat": 4,
 "nbformat_minor": 5
}
