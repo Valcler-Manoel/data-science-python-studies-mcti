{
 "cells": [
  {
   "cell_type": "raw",
   "id": "a04ebcd5-2312-4369-9c70-f86839898aae",
   "metadata": {},
   "source": [
    "Use a lista de números: [12, 45, 67, 23, 89, 34, 22, 90, 56, 78].\n",
    "Calcule a média dos números usando a biblioteca numpy."
   ]
  },
  {
   "cell_type": "code",
   "execution_count": 5,
   "id": "16421db6-1258-4ebf-b696-1b580bb6bfc1",
   "metadata": {},
   "outputs": [
    {
     "name": "stdout",
     "output_type": "stream",
     "text": [
      "Média: 51.6\n"
     ]
    }
   ],
   "source": [
    "import numpy as np\n",
    "import pandas as pd\n",
    "\n",
    "lista = np.array([12, 45, 67, 23, 89, 34, 22, 90, 56, 78])\n",
    "print(\"Média:\", np.mean(lista))"
   ]
  },
  {
   "cell_type": "raw",
   "id": "654c0036-da5b-422b-b194-1c4752456437",
   "metadata": {},
   "source": [
    "Identifique os números que são maiores que a média."
   ]
  },
  {
   "cell_type": "code",
   "execution_count": 6,
   "id": "7b0cf5bf-d00f-444e-ac88-2dc22dd04c89",
   "metadata": {},
   "outputs": [
    {
     "name": "stdout",
     "output_type": "stream",
     "text": [
      "Números que são maiores que a média.: [67 89 90 56 78]\n"
     ]
    }
   ],
   "source": [
    "media = np.mean(lista)\n",
    "numeros_maiores = lista[lista > media]\n",
    "print(\"Números que são maiores que a média.:\", numeros_maiores)"
   ]
  },
  {
   "cell_type": "raw",
   "id": "8a42d842-38eb-4be1-aabb-130003a1dd5f",
   "metadata": {},
   "source": [
    "Armazene os números maiores que a média em um DataFrame do pandas."
   ]
  },
  {
   "cell_type": "code",
   "execution_count": 8,
   "id": "a166ae05-c3aa-40b9-9898-3707e653bf9a",
   "metadata": {},
   "outputs": [],
   "source": [
    "df = pd.DataFrame(numeros_maiores, columns=[\"Números Maiores que Média\"])"
   ]
  },
  {
   "cell_type": "raw",
   "id": "582a6ed1-636a-463f-b147-34037e0ea921",
   "metadata": {},
   "source": [
    "Salve o DataFrame em um arquivo CSV chamado \"numeros_maiores_que_media.csv\""
   ]
  },
  {
   "cell_type": "code",
   "execution_count": 10,
   "id": "d78f240e-ae69-4a5c-b857-b59cb23bafa1",
   "metadata": {},
   "outputs": [
    {
     "name": "stdout",
     "output_type": "stream",
     "text": [
      "Dados salvos em 'numeros_maiores_que_media.csv'\n"
     ]
    }
   ],
   "source": [
    "df.to_csv(\"numeros_maiores_que_media.csv\", index=False)\n",
    "print(\"Dados salvos em 'numeros_maiores_que_media.csv'\")"
   ]
  }
 ],
 "metadata": {
  "kernelspec": {
   "display_name": "Python 3 (ipykernel)",
   "language": "python",
   "name": "python3"
  },
  "language_info": {
   "codemirror_mode": {
    "name": "ipython",
    "version": 3
   },
   "file_extension": ".py",
   "mimetype": "text/x-python",
   "name": "python",
   "nbconvert_exporter": "python",
   "pygments_lexer": "ipython3",
   "version": "3.12.10"
  }
 },
 "nbformat": 4,
 "nbformat_minor": 5
}
