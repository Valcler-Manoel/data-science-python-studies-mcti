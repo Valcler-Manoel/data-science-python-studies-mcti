{
 "cells": [
  {
   "cell_type": "raw",
   "id": "15d56708-d2e7-4b37-b20a-6fb9e4417318",
   "metadata": {},
   "source": [
    "1. Questão: Suponha que você tem um array que armazena os nomes de cinco frutas: [“Maçã”, “Banana”, “Cereja”, “Damasco”, “Uva”]. \n",
    "Como você adicionaria uma nova fruta ao final do array e como removeria a fruta da terceira posição?"
   ]
  },
  {
   "cell_type": "code",
   "execution_count": 3,
   "id": "28bd0227-610d-4f4a-ad69-6d0e3eaea120",
   "metadata": {
    "scrolled": true
   },
   "outputs": [
    {
     "name": "stdout",
     "output_type": "stream",
     "text": [
      "['Maçã', 'Banana', 'Damasco', 'Uva', 'Melancia']\n"
     ]
    }
   ],
   "source": [
    "frutas = [\"Maçã\", \"Banana\", \"Cereja\", \"Damasco\", \"Uva\"]\n",
    "\n",
    "frutas.append(\"Melancia\")\n",
    "\n",
    "del frutas[2]\n",
    "\n",
    "print(frutas)"
   ]
  },
  {
   "cell_type": "raw",
   "id": "e06d5421-085e-4a19-a1bd-2af05f6a6bc1",
   "metadata": {},
   "source": [
    "2. Questão: Imagine um array que armazena os nomes de três cores: “Azul”, “Vermelho” e “Amarelo”. \n",
    "Como você adicionaria a cor “Verde” ao início da lista e como removeria a segunda cor?"
   ]
  },
  {
   "cell_type": "code",
   "execution_count": 9,
   "id": "e9c87e70-bf8b-434f-9945-1bce1fe55a58",
   "metadata": {},
   "outputs": [
    {
     "name": "stdout",
     "output_type": "stream",
     "text": [
      "['Verde', 'Vermelho', 'Amarelo']\n"
     ]
    }
   ],
   "source": [
    "cores = [\"Azul\", \"Vermelho\", \"Amarelo\"]\n",
    "\n",
    "cores.insert(0,\"Verde\")\n",
    "\n",
    "del cores[1]\n",
    "\n",
    "print(cores)"
   ]
  },
  {
   "cell_type": "raw",
   "id": "dc50e0c9-7b5a-49df-a742-245235dee710",
   "metadata": {},
   "source": [
    "3. Questão: Considere uma pilha utilizada para gerenciar uma sequência de livros. \n",
    "Se você adicionar três livros à pilha e depois remover o livro no topo, qual livro será o próximo no topo da pilha? Dê um exemplo com os livros “Livro A”, “Livro B” e “Livro C”."
   ]
  },
  {
   "cell_type": "code",
   "execution_count": 15,
   "id": "4a1665da-ef12-427d-89d9-ac131d8d8a13",
   "metadata": {},
   "outputs": [
    {
     "name": "stdout",
     "output_type": "stream",
     "text": [
      "Elemento removido: Livro C\n",
      "Pilha após remoção: ['Livro A', 'Livro B']\n"
     ]
    }
   ],
   "source": [
    "livros = []\n",
    "\n",
    "livros.append(\"Livro A\")\n",
    "livros.append(\"Livro B\")\n",
    "livros.append(\"Livro C\")\n",
    "\n",
    "topo = livros.pop()\n",
    "print(\"Elemento removido:\", topo)  \n",
    "print(\"Pilha após remoção:\", livros)\n",
    "\n",
    "#O Elemento que foi removido foi o Livro C, pois este foi o último a ser adicionado à pilha.\n"
   ]
  },
  {
   "cell_type": "raw",
   "id": "807ca2b4-b94f-494e-9a3b-7fb2839e25b7",
   "metadata": {},
   "source": [
    "4. Questão: Imagine uma fila utilizada para gerenciar a ordem de atendimento em um consultório médico. \n",
    "Se quatro pacientes são adicionados à fila e dois são atendidos, quem serão os próximos dois pacientes na ordem de atendimento? Considere os pacientes “Paciente 1”, “Paciente 2”, “Paciente 3” e “Paciente 4”."
   ]
  },
  {
   "cell_type": "code",
   "execution_count": 29,
   "id": "4f1161aa-d759-4739-abb2-c3bb64a0f0a8",
   "metadata": {},
   "outputs": [
    {
     "name": "stdout",
     "output_type": "stream",
     "text": [
      "Os dois pacientes atendidos foram: ['Paciente 1', 'Paciente 2']\n",
      "['Paciente 3', 'Paciente 4']\n"
     ]
    }
   ],
   "source": [
    "from collections import deque\n",
    "\n",
    "Ordem_de_Atendimento = deque()\n",
    "Ordem_de_Atendimento.append(\"Paciente 1\")\n",
    "Ordem_de_Atendimento.append(\"Paciente 2\")\n",
    "Ordem_de_Atendimento.append(\"Paciente 3\")\n",
    "Ordem_de_Atendimento.append(\"Paciente 4\")\n",
    "\n",
    "dois_primeiros = [Ordem_de_Atendimento.popleft(), Ordem_de_Atendimento.popleft()]\n",
    "print(\"Os dois pacientes atendidos foram:\", dois_primeiros)\n",
    "\n",
    "print(list(Ordem_de_Atendimento))\n"
   ]
  },
  {
   "cell_type": "code",
   "execution_count": null,
   "id": "846014f3-c2ed-49b5-9216-0d50f8699aed",
   "metadata": {},
   "outputs": [],
   "source": []
  }
 ],
 "metadata": {
  "kernelspec": {
   "display_name": "Python 3 (ipykernel)",
   "language": "python",
   "name": "python3"
  },
  "language_info": {
   "codemirror_mode": {
    "name": "ipython",
    "version": 3
   },
   "file_extension": ".py",
   "mimetype": "text/x-python",
   "name": "python",
   "nbconvert_exporter": "python",
   "pygments_lexer": "ipython3",
   "version": "3.12.10"
  }
 },
 "nbformat": 4,
 "nbformat_minor": 5
}
